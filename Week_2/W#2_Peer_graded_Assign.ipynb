{
 "cells": [
  {
   "cell_type": "markdown",
   "metadata": {},
   "source": [
    "### Julia Scientific Programming \n",
    "#### Coursera"
   ]
  },
  {
   "cell_type": "markdown",
   "metadata": {},
   "source": [
    "#### Week 2 Peer-Graded Assignment"
   ]
  },
  {
   "cell_type": "markdown",
   "metadata": {},
   "source": [
    "#### **Instructions**:\n",
    "##### Create a Jupyter Notebook that describes a function. You can use JuliaBox (go to https://juliabox.com in a web browser) or IJulia (requires a local installation). The Jupyter Notebook you will create is similar to those used in this course. For each step below create a cell and write code to produce the required output.\n",
    "\n",
    "##### Create a new Notebook. There is a drop-down menu called 'new' on the right of the screen when opening JuliaBox. Select a Julia notebook from the options. (There may be several versions listed. Select the 0.4.6 version, although all the listed versions are likely to work for this assignment.)\n",
    "##### Create a cell. From the Cell menu, select the 'Cell Type' option and change the cell's type to 'Markdown'. There is also a drop-down selection box that performs the same function. Now type in a title in the cell. The title should relate to the function you will plot. The convention is to use the markdown format: starting with # such as: # My equation\n",
    "##### Create a new code cell below. Create a function that returns a y value for a given x value. A simple example might be: f(x) = 2x^2 - 4. Execute the code create your function in the Notebook.\n",
    "##### Create a new Markdown cell below. In the Markdown cell briefly describe what might be interesting about your function and what it looks like. The above example function is a parabola that intercepts the x-axis at two points. Optionally you can look up further descriptive information on functions at websites such as http://www.wolframalpha.com). Markdown cell can be used to display your function in mathematics notations in you place $$ at the start and end, using the LaTeX notation. Following the earlier example this would be: $$f(x) = 2x^2 - 4$$ to display as f(x)=2x2−4\n",
    "##### Create a new code cell below. In the code cell write a 'For' loop to print x and y values for you function over a range such as -10 to 10. The range that you choose will depend on your function choice. For clarity use a small number of loop iterations to illustrate some of the data point values. Execute the code to confirm in runs and displays the expected values.\n",
    "##### Create a new code cell below. In the code cell write a 'plot' statement to display your function visually.\n",
    "##### Ensure you have run each cell in your Notebook. Now save your Jupyter Notebook to a file on your local computer. With your Notebook open, select 'Download as' from the File menu. We recommend using HTML (not executable). Give your Notebook an appropriate name such as: ‘Week2_Function’. The file must be easy for anyone else to open and review. While you could share your notebook in other formats, allowing a reviewer to run the code, rather avoid file formats that other people may not expect or be familiar with opening.\n",
    "\n",
    "##### Finally upload your saved Jupyter Notebook file below for peer review."
   ]
  },
  {
   "cell_type": "markdown",
   "metadata": {},
   "source": [
    "<br>"
   ]
  },
  {
   "cell_type": "markdown",
   "metadata": {},
   "source": [
    "#### Loading required Julia Packages "
   ]
  },
  {
   "cell_type": "code",
   "execution_count": 5,
   "metadata": {},
   "outputs": [
    {
     "name": "stderr",
     "output_type": "stream",
     "text": [
      "\u001b[32m\u001b[1m   Updating\u001b[22m\u001b[39m registry at `C:\\Users\\m216613\\.julia\\registries\\General`"
     ]
    },
    {
     "name": "stdout",
     "output_type": "stream",
     "text": [
      "\u001b[?25l"
     ]
    },
    {
     "name": "stderr",
     "output_type": "stream",
     "text": [
      "\n",
      "\u001b[32m\u001b[1m   Updating\u001b[22m\u001b[39m git-repo `https://github.com/JuliaRegistries/General.git`\n"
     ]
    },
    {
     "name": "stdout",
     "output_type": "stream",
     "text": [
      "\u001b[2K\u001b[?25h[1mFetching:\u001b[22m\u001b[39m [========================================>]  100.0 %"
     ]
    },
    {
     "name": "stderr",
     "output_type": "stream",
     "text": [
      "\u001b[32m\u001b[1m  Resolving\u001b[22m\u001b[39m package versions...\n",
      "\u001b[32m\u001b[1m   Updating\u001b[22m\u001b[39m `C:\\Users\\m216613\\.julia\\environments\\v1.4\\Project.toml`\n",
      "\u001b[90m [no changes]\u001b[39m\n",
      "\u001b[32m\u001b[1m   Updating\u001b[22m\u001b[39m `C:\\Users\\m216613\\.julia\\environments\\v1.4\\Manifest.toml`\n",
      "\u001b[90m [no changes]\u001b[39m\n"
     ]
    },
    {
     "data": {
      "text/plain": [
       "Plots.GRBackend()"
      ]
     },
     "execution_count": 5,
     "metadata": {},
     "output_type": "execute_result"
    }
   ],
   "source": [
    "using Pkg\n",
    "Pkg.add(\"Plots\")\n",
    "using Plots\n",
    "gr()"
   ]
  },
  {
   "cell_type": "markdown",
   "metadata": {},
   "source": [
    "##### **1. My self-defined function in Julia for f(x)=2x^2-4, and the description of this function:**"
   ]
  },
  {
   "cell_type": "code",
   "execution_count": 119,
   "metadata": {},
   "outputs": [
    {
     "data": {
      "text/plain": [
       "myparabola (generic function with 1 method)"
      ]
     },
     "execution_count": 119,
     "metadata": {},
     "output_type": "execute_result"
    }
   ],
   "source": [
    "function myparabola(x)\n",
    "    f(x) = 2x^2-4\n",
    "    println(\"The dependednt f(x) based on the input x,\",x,\" is: \",f.(x))\n",
    "end"
   ]
  },
  {
   "cell_type": "code",
   "execution_count": 120,
   "metadata": {},
   "outputs": [
    {
     "name": "stdout",
     "output_type": "stream",
     "text": [
      "The dependednt f(x) based on the input x,2 is: 4\n"
     ]
    }
   ],
   "source": [
    "myparabola(2)"
   ]
  },
  {
   "cell_type": "markdown",
   "metadata": {},
   "source": [
    "##### My function is exactly the same as the recommended parabola function provided in this assignment instruction, which is $f(x)=2x^2-4$, while this is a parabola function with 2 intersections with x-axis (which is $f(x)=0$). These 2 intersection points are ($-\\sqrt{2}$,0) and ($\\sqrt{2}$,0). Noticed the range of $x$ for this parabola function $f(x)$ could be all real numbers. If you visualise this function with $x$ ranges from negative infinity to positive infinity, you would noticed that when x ranges from negative infinity to $-\\sqrt{2}$, while $x$ increases, the value of $f(x)$ will get decreased. However, when $x$ ranges from $\\sqrt{2}$ to positive infinity, the value of $f(x)$ will increase if the value of $x$ increases. \n",
    "##### You might also wondering to know what this parabola function would looks like when $x$ ranges from $-\\sqrt{2}$ to $\\sqrt{2}$. Before that, you have to know that this function $f(x)$ only have the minimum value, while no maximum value could be find with the value of $x$ ranges from negative to positive infinity. When the value of $x$ equals to 0, this parabola function $f(x)$ reaches its minimum value, which is $f(0)=2*0^2-4=2*0-4=-4$. Details of how we know $f(x)$ reaches its minimum value when $x$ equals to 0 is provided in the following:\n",
    "##### We could take the derivative of this function $f(x)$, which we could get $f(x)^{'}=2*2x-0=4x$. Let $f(x)^{'}=4x=0$, we could get $x=0$. Thus we know when $x=0$, the value of $f(x)=f(0)$ is the minimum value of this parabola function $f(x)$.\n",
    "##### Then back to the question for what the apperance of this parabola function $f(x)$ when $x$ ranges from $-\\sqrt{2}$ to $\\sqrt{2}$. When the value of $x$ ranges from ($-\\sqrt{2}$,0), the value of $f(x)$ decreases while the value of $x$ increases. However, when the value of $x$ ranges from (0,$\\sqrt{2}$), the value of $f(x)$ increases while the value of $x$ increases."
   ]
  },
  {
   "cell_type": "markdown",
   "metadata": {},
   "source": [
    "<br>"
   ]
  },
  {
   "cell_type": "markdown",
   "metadata": {},
   "source": [
    "##### **2. For Loop that enables Audience to Visualize my parabola function when the independent variable $x$ ranges from (-10,10):**"
   ]
  },
  {
   "cell_type": "code",
   "execution_count": 121,
   "metadata": {},
   "outputs": [
    {
     "name": "stdout",
     "output_type": "stream",
     "text": [
      "The dependednt f(x) based on the input x,-10 is: 196\n",
      "The dependednt f(x) based on the input x,-9 is: 158\n",
      "The dependednt f(x) based on the input x,-8 is: 124\n",
      "The dependednt f(x) based on the input x,-7 is: 94\n",
      "The dependednt f(x) based on the input x,-6 is: 68\n",
      "The dependednt f(x) based on the input x,-5 is: 46\n",
      "The dependednt f(x) based on the input x,-4 is: 28\n",
      "The dependednt f(x) based on the input x,-3 is: 14\n",
      "The dependednt f(x) based on the input x,-2 is: 4\n",
      "The dependednt f(x) based on the input x,-1 is: -2\n",
      "The dependednt f(x) based on the input x,0 is: -4\n",
      "The dependednt f(x) based on the input x,1 is: -2\n",
      "The dependednt f(x) based on the input x,2 is: 4\n",
      "The dependednt f(x) based on the input x,3 is: 14\n",
      "The dependednt f(x) based on the input x,4 is: 28\n",
      "The dependednt f(x) based on the input x,5 is: 46\n",
      "The dependednt f(x) based on the input x,6 is: 68\n",
      "The dependednt f(x) based on the input x,7 is: 94\n",
      "The dependednt f(x) based on the input x,8 is: 124\n",
      "The dependednt f(x) based on the input x,9 is: 158\n",
      "The dependednt f(x) based on the input x,10 is: 196\n"
     ]
    }
   ],
   "source": [
    "for x in collect(-10:10)\n",
    "    myparabola(x)\n",
    "end"
   ]
  },
  {
   "cell_type": "markdown",
   "metadata": {},
   "source": [
    "<br>"
   ]
  },
  {
   "cell_type": "markdown",
   "metadata": {},
   "source": [
    "##### **3. Visualize my parabola function:**"
   ]
  },
  {
   "cell_type": "code",
   "execution_count": 136,
   "metadata": {},
   "outputs": [
    {
     "data": {
      "text/plain": [
       "Plots.GRBackend()"
      ]
     },
     "execution_count": 136,
     "metadata": {},
     "output_type": "execute_result"
    }
   ],
   "source": [
    "using Plots\n",
    "gr()"
   ]
  },
  {
   "cell_type": "code",
   "execution_count": 161,
   "metadata": {},
   "outputs": [
    {
     "data": {
      "text/plain": [
       "visualmyparabola (generic function with 2 methods)"
      ]
     },
     "execution_count": 161,
     "metadata": {},
     "output_type": "execute_result"
    }
   ],
   "source": [
    "function visualmyparabola(x_start, x_end)\n",
    "    x_range = collect(x_start:x_end)\n",
    "    f(x_range) = 2x_range^2-4\n",
    "    println(\"See the Plot of parabola function f(x)=2x^2-4 below: \n",
    "    plot!(zero,x_range,leg=false,\n",
    "        xlab = \"x\", ylab = \"f(x)\",\n",
    "        title=\"Visualization of My Parabola Function\")\n",
    "end"
   ]
  },
  {
   "cell_type": "code",
   "execution_count": 162,
   "metadata": {},
   "outputs": [
    {
     "data": {
      "image/svg+xml": [
       "<?xml version=\"1.0\" encoding=\"utf-8\"?>\n",
       "<svg xmlns=\"http://www.w3.org/2000/svg\" xmlns:xlink=\"http://www.w3.org/1999/xlink\" width=\"600\" height=\"400\" viewBox=\"0 0 2400 1600\">\n",
       "<defs>\n",
       "  <clipPath id=\"clip480\">\n",
       "    <rect x=\"0\" y=\"0\" width=\"2400\" height=\"1600\"/>\n",
       "  </clipPath>\n",
       "</defs>\n",
       "<path clip-path=\"url(#clip480)\" d=\"\n",
       "M0 1600 L2400 1600 L2400 0 L0 0  Z\n",
       "  \" fill=\"#ffffff\" fill-rule=\"evenodd\" fill-opacity=\"1\"/>\n",
       "<defs>\n",
       "  <clipPath id=\"clip481\">\n",
       "    <rect x=\"480\" y=\"0\" width=\"1681\" height=\"1600\"/>\n",
       "  </clipPath>\n",
       "</defs>\n",
       "<path clip-path=\"url(#clip480)\" d=\"\n",
       "M226.232 1423.18 L2352.76 1423.18 L2352.76 123.472 L226.232 123.472  Z\n",
       "  \" fill=\"#ffffff\" fill-rule=\"evenodd\" fill-opacity=\"1\"/>\n",
       "<defs>\n",
       "  <clipPath id=\"clip482\">\n",
       "    <rect x=\"226\" y=\"123\" width=\"2128\" height=\"1301\"/>\n",
       "  </clipPath>\n",
       "</defs>\n",
       "<polyline clip-path=\"url(#clip482)\" style=\"stroke:#000000; stroke-width:2; stroke-opacity:0.1; fill:none\" points=\"\n",
       "  286.417,1423.18 286.417,123.472 \n",
       "  \"/>\n",
       "<polyline clip-path=\"url(#clip482)\" style=\"stroke:#000000; stroke-width:2; stroke-opacity:0.1; fill:none\" points=\"\n",
       "  787.955,1423.18 787.955,123.472 \n",
       "  \"/>\n",
       "<polyline clip-path=\"url(#clip482)\" style=\"stroke:#000000; stroke-width:2; stroke-opacity:0.1; fill:none\" points=\"\n",
       "  1289.49,1423.18 1289.49,123.472 \n",
       "  \"/>\n",
       "<polyline clip-path=\"url(#clip482)\" style=\"stroke:#000000; stroke-width:2; stroke-opacity:0.1; fill:none\" points=\"\n",
       "  1791.03,1423.18 1791.03,123.472 \n",
       "  \"/>\n",
       "<polyline clip-path=\"url(#clip482)\" style=\"stroke:#000000; stroke-width:2; stroke-opacity:0.1; fill:none\" points=\"\n",
       "  2292.57,1423.18 2292.57,123.472 \n",
       "  \"/>\n",
       "<polyline clip-path=\"url(#clip482)\" style=\"stroke:#000000; stroke-width:2; stroke-opacity:0.1; fill:none\" points=\"\n",
       "  226.232,1361.87 2352.76,1361.87 \n",
       "  \"/>\n",
       "<polyline clip-path=\"url(#clip482)\" style=\"stroke:#000000; stroke-width:2; stroke-opacity:0.1; fill:none\" points=\"\n",
       "  226.232,1055.34 2352.76,1055.34 \n",
       "  \"/>\n",
       "<polyline clip-path=\"url(#clip482)\" style=\"stroke:#000000; stroke-width:2; stroke-opacity:0.1; fill:none\" points=\"\n",
       "  226.232,748.803 2352.76,748.803 \n",
       "  \"/>\n",
       "<polyline clip-path=\"url(#clip482)\" style=\"stroke:#000000; stroke-width:2; stroke-opacity:0.1; fill:none\" points=\"\n",
       "  226.232,442.268 2352.76,442.268 \n",
       "  \"/>\n",
       "<polyline clip-path=\"url(#clip482)\" style=\"stroke:#000000; stroke-width:2; stroke-opacity:0.1; fill:none\" points=\"\n",
       "  226.232,135.734 2352.76,135.734 \n",
       "  \"/>\n",
       "<polyline clip-path=\"url(#clip480)\" style=\"stroke:#000000; stroke-width:4; stroke-opacity:1; fill:none\" points=\"\n",
       "  226.232,1423.18 2352.76,1423.18 \n",
       "  \"/>\n",
       "<polyline clip-path=\"url(#clip480)\" style=\"stroke:#000000; stroke-width:4; stroke-opacity:1; fill:none\" points=\"\n",
       "  226.232,1423.18 226.232,123.472 \n",
       "  \"/>\n",
       "<polyline clip-path=\"url(#clip480)\" style=\"stroke:#000000; stroke-width:4; stroke-opacity:1; fill:none\" points=\"\n",
       "  286.417,1423.18 286.417,1407.58 \n",
       "  \"/>\n",
       "<polyline clip-path=\"url(#clip480)\" style=\"stroke:#000000; stroke-width:4; stroke-opacity:1; fill:none\" points=\"\n",
       "  787.955,1423.18 787.955,1407.58 \n",
       "  \"/>\n",
       "<polyline clip-path=\"url(#clip480)\" style=\"stroke:#000000; stroke-width:4; stroke-opacity:1; fill:none\" points=\"\n",
       "  1289.49,1423.18 1289.49,1407.58 \n",
       "  \"/>\n",
       "<polyline clip-path=\"url(#clip480)\" style=\"stroke:#000000; stroke-width:4; stroke-opacity:1; fill:none\" points=\"\n",
       "  1791.03,1423.18 1791.03,1407.58 \n",
       "  \"/>\n",
       "<polyline clip-path=\"url(#clip480)\" style=\"stroke:#000000; stroke-width:4; stroke-opacity:1; fill:none\" points=\"\n",
       "  2292.57,1423.18 2292.57,1407.58 \n",
       "  \"/>\n",
       "<polyline clip-path=\"url(#clip480)\" style=\"stroke:#000000; stroke-width:4; stroke-opacity:1; fill:none\" points=\"\n",
       "  226.232,1361.87 251.75,1361.87 \n",
       "  \"/>\n",
       "<polyline clip-path=\"url(#clip480)\" style=\"stroke:#000000; stroke-width:4; stroke-opacity:1; fill:none\" points=\"\n",
       "  226.232,1055.34 251.75,1055.34 \n",
       "  \"/>\n",
       "<polyline clip-path=\"url(#clip480)\" style=\"stroke:#000000; stroke-width:4; stroke-opacity:1; fill:none\" points=\"\n",
       "  226.232,748.803 251.75,748.803 \n",
       "  \"/>\n",
       "<polyline clip-path=\"url(#clip480)\" style=\"stroke:#000000; stroke-width:4; stroke-opacity:1; fill:none\" points=\"\n",
       "  226.232,442.268 251.75,442.268 \n",
       "  \"/>\n",
       "<polyline clip-path=\"url(#clip480)\" style=\"stroke:#000000; stroke-width:4; stroke-opacity:1; fill:none\" points=\"\n",
       "  226.232,135.734 251.75,135.734 \n",
       "  \"/>\n",
       "<path clip-path=\"url(#clip480)\" d=\"M 0 0 M253.778 1461.77 L266.255 1461.77 L266.255 1465.56 L253.778 1465.56 L253.778 1461.77 Z\" fill=\"#000000\" fill-rule=\"evenodd\" fill-opacity=\"1\" /><path clip-path=\"url(#clip480)\" d=\"M 0 0 M272.134 1472.72 L279.773 1472.72 L279.773 1446.35 L271.463 1448.02 L271.463 1443.76 L279.727 1442.09 L284.403 1442.09 L284.403 1472.72 L292.042 1472.72 L292.042 1476.65 L272.134 1476.65 L272.134 1472.72 Z\" fill=\"#000000\" fill-rule=\"evenodd\" fill-opacity=\"1\" /><path clip-path=\"url(#clip480)\" d=\"M 0 0 M307.111 1445.17 Q303.5 1445.17 301.671 1448.74 Q299.866 1452.28 299.866 1459.41 Q299.866 1466.51 301.671 1470.08 Q303.5 1473.62 307.111 1473.62 Q310.745 1473.62 312.551 1470.08 Q314.379 1466.51 314.379 1459.41 Q314.379 1452.28 312.551 1448.74 Q310.745 1445.17 307.111 1445.17 M307.111 1441.47 Q312.921 1441.47 315.977 1446.07 Q319.055 1450.66 319.055 1459.41 Q319.055 1468.13 315.977 1472.74 Q312.921 1477.32 307.111 1477.32 Q301.301 1477.32 298.222 1472.74 Q295.167 1468.13 295.167 1459.41 Q295.167 1450.66 298.222 1446.07 Q301.301 1441.47 307.111 1441.47 Z\" fill=\"#000000\" fill-rule=\"evenodd\" fill-opacity=\"1\" /><path clip-path=\"url(#clip480)\" d=\"M 0 0 M768.708 1461.77 L781.184 1461.77 L781.184 1465.56 L768.708 1465.56 L768.708 1461.77 Z\" fill=\"#000000\" fill-rule=\"evenodd\" fill-opacity=\"1\" /><path clip-path=\"url(#clip480)\" d=\"M 0 0 M786.3 1442.09 L804.657 1442.09 L804.657 1446.03 L790.583 1446.03 L790.583 1454.5 Q791.601 1454.15 792.62 1453.99 Q793.638 1453.8 794.657 1453.8 Q800.444 1453.8 803.823 1456.98 Q807.203 1460.15 807.203 1465.56 Q807.203 1471.14 803.731 1474.24 Q800.258 1477.32 793.939 1477.32 Q791.763 1477.32 789.495 1476.95 Q787.249 1476.58 784.842 1475.84 L784.842 1471.14 Q786.925 1472.28 789.147 1472.83 Q791.37 1473.39 793.846 1473.39 Q797.851 1473.39 800.189 1471.28 Q802.527 1469.18 802.527 1465.56 Q802.527 1461.95 800.189 1459.85 Q797.851 1457.74 793.846 1457.74 Q791.971 1457.74 790.096 1458.16 Q788.245 1458.57 786.3 1459.45 L786.3 1442.09 Z\" fill=\"#000000\" fill-rule=\"evenodd\" fill-opacity=\"1\" /><path clip-path=\"url(#clip480)\" d=\"M 0 0 M1289.49 1445.17 Q1285.88 1445.17 1284.05 1448.74 Q1282.25 1452.28 1282.25 1459.41 Q1282.25 1466.51 1284.05 1470.08 Q1285.88 1473.62 1289.49 1473.62 Q1293.13 1473.62 1294.93 1470.08 Q1296.76 1466.51 1296.76 1459.41 Q1296.76 1452.28 1294.93 1448.74 Q1293.13 1445.17 1289.49 1445.17 M1289.49 1441.47 Q1295.3 1441.47 1298.36 1446.07 Q1301.44 1450.66 1301.44 1459.41 Q1301.44 1468.13 1298.36 1472.74 Q1295.3 1477.32 1289.49 1477.32 Q1283.68 1477.32 1280.61 1472.74 Q1277.55 1468.13 1277.55 1459.41 Q1277.55 1450.66 1280.61 1446.07 Q1283.68 1441.47 1289.49 1441.47 Z\" fill=\"#000000\" fill-rule=\"evenodd\" fill-opacity=\"1\" /><path clip-path=\"url(#clip480)\" d=\"M 0 0 M1781.31 1442.09 L1799.67 1442.09 L1799.67 1446.03 L1785.59 1446.03 L1785.59 1454.5 Q1786.61 1454.15 1787.63 1453.99 Q1788.65 1453.8 1789.67 1453.8 Q1795.45 1453.8 1798.83 1456.98 Q1802.21 1460.15 1802.21 1465.56 Q1802.21 1471.14 1798.74 1474.24 Q1795.27 1477.32 1788.95 1477.32 Q1786.77 1477.32 1784.5 1476.95 Q1782.26 1476.58 1779.85 1475.84 L1779.85 1471.14 Q1781.94 1472.28 1784.16 1472.83 Q1786.38 1473.39 1788.86 1473.39 Q1792.86 1473.39 1795.2 1471.28 Q1797.54 1469.18 1797.54 1465.56 Q1797.54 1461.95 1795.2 1459.85 Q1792.86 1457.74 1788.86 1457.74 Q1786.98 1457.74 1785.11 1458.16 Q1783.25 1458.57 1781.31 1459.45 L1781.31 1442.09 Z\" fill=\"#000000\" fill-rule=\"evenodd\" fill-opacity=\"1\" /><path clip-path=\"url(#clip480)\" d=\"M 0 0 M2269.45 1472.72 L2277.09 1472.72 L2277.09 1446.35 L2268.78 1448.02 L2268.78 1443.76 L2277.04 1442.09 L2281.71 1442.09 L2281.71 1472.72 L2289.35 1472.72 L2289.35 1476.65 L2269.45 1476.65 L2269.45 1472.72 Z\" fill=\"#000000\" fill-rule=\"evenodd\" fill-opacity=\"1\" /><path clip-path=\"url(#clip480)\" d=\"M 0 0 M2304.42 1445.17 Q2300.81 1445.17 2298.98 1448.74 Q2297.18 1452.28 2297.18 1459.41 Q2297.18 1466.51 2298.98 1470.08 Q2300.81 1473.62 2304.42 1473.62 Q2308.06 1473.62 2309.86 1470.08 Q2311.69 1466.51 2311.69 1459.41 Q2311.69 1452.28 2309.86 1448.74 Q2308.06 1445.17 2304.42 1445.17 M2304.42 1441.47 Q2310.23 1441.47 2313.29 1446.07 Q2316.37 1450.66 2316.37 1459.41 Q2316.37 1468.13 2313.29 1472.74 Q2310.23 1477.32 2304.42 1477.32 Q2298.61 1477.32 2295.53 1472.74 Q2292.48 1468.13 2292.48 1459.41 Q2292.48 1450.66 2295.53 1446.07 Q2298.61 1441.47 2304.42 1441.47 Z\" fill=\"#000000\" fill-rule=\"evenodd\" fill-opacity=\"1\" /><path clip-path=\"url(#clip480)\" d=\"M 0 0 M190.288 1347.67 Q186.677 1347.67 184.848 1351.24 Q183.042 1354.78 183.042 1361.91 Q183.042 1369.01 184.848 1372.58 Q186.677 1376.12 190.288 1376.12 Q193.922 1376.12 195.727 1372.58 Q197.556 1369.01 197.556 1361.91 Q197.556 1354.78 195.727 1351.24 Q193.922 1347.67 190.288 1347.67 M190.288 1343.97 Q196.098 1343.97 199.153 1348.57 Q202.232 1353.16 202.232 1361.91 Q202.232 1370.63 199.153 1375.24 Q196.098 1379.82 190.288 1379.82 Q184.477 1379.82 181.399 1375.24 Q178.343 1370.63 178.343 1361.91 Q178.343 1353.16 181.399 1348.57 Q184.477 1343.97 190.288 1343.97 Z\" fill=\"#000000\" fill-rule=\"evenodd\" fill-opacity=\"1\" /><path clip-path=\"url(#clip480)\" d=\"M 0 0 M154.316 1038.06 L172.672 1038.06 L172.672 1041.99 L158.598 1041.99 L158.598 1050.47 Q159.616 1050.12 160.635 1049.96 Q161.653 1049.77 162.672 1049.77 Q168.459 1049.77 171.839 1052.94 Q175.218 1056.11 175.218 1061.53 Q175.218 1067.11 171.746 1070.21 Q168.274 1073.29 161.954 1073.29 Q159.778 1073.29 157.51 1072.92 Q155.265 1072.55 152.857 1071.81 L152.857 1067.11 Q154.941 1068.24 157.163 1068.8 Q159.385 1069.35 161.862 1069.35 Q165.866 1069.35 168.204 1067.25 Q170.542 1065.14 170.542 1061.53 Q170.542 1057.92 168.204 1055.81 Q165.866 1053.71 161.862 1053.71 Q159.987 1053.71 158.112 1054.12 Q156.26 1054.54 154.316 1055.42 L154.316 1038.06 Z\" fill=\"#000000\" fill-rule=\"evenodd\" fill-opacity=\"1\" /><path clip-path=\"url(#clip480)\" d=\"M 0 0 M190.288 1041.14 Q186.677 1041.14 184.848 1044.7 Q183.042 1048.24 183.042 1055.37 Q183.042 1062.48 184.848 1066.04 Q186.677 1069.59 190.288 1069.59 Q193.922 1069.59 195.727 1066.04 Q197.556 1062.48 197.556 1055.37 Q197.556 1048.24 195.727 1044.7 Q193.922 1041.14 190.288 1041.14 M190.288 1037.43 Q196.098 1037.43 199.153 1042.04 Q202.232 1046.62 202.232 1055.37 Q202.232 1064.1 199.153 1068.71 Q196.098 1073.29 190.288 1073.29 Q184.477 1073.29 181.399 1068.71 Q178.343 1064.1 178.343 1055.37 Q178.343 1046.62 181.399 1042.04 Q184.477 1037.43 190.288 1037.43 Z\" fill=\"#000000\" fill-rule=\"evenodd\" fill-opacity=\"1\" /><path clip-path=\"url(#clip480)\" d=\"M 0 0 M128.297 762.148 L135.936 762.148 L135.936 735.782 L127.626 737.449 L127.626 733.19 L135.89 731.523 L140.566 731.523 L140.566 762.148 L148.204 762.148 L148.204 766.083 L128.297 766.083 L128.297 762.148 Z\" fill=\"#000000\" fill-rule=\"evenodd\" fill-opacity=\"1\" /><path clip-path=\"url(#clip480)\" d=\"M 0 0 M163.274 734.602 Q159.663 734.602 157.834 738.167 Q156.029 741.708 156.029 748.838 Q156.029 755.944 157.834 759.509 Q159.663 763.051 163.274 763.051 Q166.908 763.051 168.714 759.509 Q170.542 755.944 170.542 748.838 Q170.542 741.708 168.714 738.167 Q166.908 734.602 163.274 734.602 M163.274 730.898 Q169.084 730.898 172.14 735.505 Q175.218 740.088 175.218 748.838 Q175.218 757.565 172.14 762.171 Q169.084 766.754 163.274 766.754 Q157.464 766.754 154.385 762.171 Q151.329 757.565 151.329 748.838 Q151.329 740.088 154.385 735.505 Q157.464 730.898 163.274 730.898 Z\" fill=\"#000000\" fill-rule=\"evenodd\" fill-opacity=\"1\" /><path clip-path=\"url(#clip480)\" d=\"M 0 0 M190.288 734.602 Q186.677 734.602 184.848 738.167 Q183.042 741.708 183.042 748.838 Q183.042 755.944 184.848 759.509 Q186.677 763.051 190.288 763.051 Q193.922 763.051 195.727 759.509 Q197.556 755.944 197.556 748.838 Q197.556 741.708 195.727 738.167 Q193.922 734.602 190.288 734.602 M190.288 730.898 Q196.098 730.898 199.153 735.505 Q202.232 740.088 202.232 748.838 Q202.232 757.565 199.153 762.171 Q196.098 766.754 190.288 766.754 Q184.477 766.754 181.399 762.171 Q178.343 757.565 178.343 748.838 Q178.343 740.088 181.399 735.505 Q184.477 730.898 190.288 730.898 Z\" fill=\"#000000\" fill-rule=\"evenodd\" fill-opacity=\"1\" /><path clip-path=\"url(#clip480)\" d=\"M 0 0 M129.293 455.613 L136.931 455.613 L136.931 429.248 L128.621 430.914 L128.621 426.655 L136.885 424.988 L141.561 424.988 L141.561 455.613 L149.2 455.613 L149.2 459.548 L129.293 459.548 L129.293 455.613 Z\" fill=\"#000000\" fill-rule=\"evenodd\" fill-opacity=\"1\" /><path clip-path=\"url(#clip480)\" d=\"M 0 0 M154.316 424.988 L172.672 424.988 L172.672 428.924 L158.598 428.924 L158.598 437.396 Q159.616 437.048 160.635 436.886 Q161.653 436.701 162.672 436.701 Q168.459 436.701 171.839 439.873 Q175.218 443.044 175.218 448.46 Q175.218 454.039 171.746 457.141 Q168.274 460.22 161.954 460.22 Q159.778 460.22 157.51 459.849 Q155.265 459.479 152.857 458.738 L152.857 454.039 Q154.941 455.173 157.163 455.729 Q159.385 456.284 161.862 456.284 Q165.866 456.284 168.204 454.178 Q170.542 452.072 170.542 448.46 Q170.542 444.849 168.204 442.743 Q165.866 440.636 161.862 440.636 Q159.987 440.636 158.112 441.053 Q156.26 441.47 154.316 442.349 L154.316 424.988 Z\" fill=\"#000000\" fill-rule=\"evenodd\" fill-opacity=\"1\" /><path clip-path=\"url(#clip480)\" d=\"M 0 0 M190.288 428.067 Q186.677 428.067 184.848 431.632 Q183.042 435.173 183.042 442.303 Q183.042 449.41 184.848 452.974 Q186.677 456.516 190.288 456.516 Q193.922 456.516 195.727 452.974 Q197.556 449.41 197.556 442.303 Q197.556 435.173 195.727 431.632 Q193.922 428.067 190.288 428.067 M190.288 424.363 Q196.098 424.363 199.153 428.97 Q202.232 433.553 202.232 442.303 Q202.232 451.03 199.153 455.636 Q196.098 460.22 190.288 460.22 Q184.477 460.22 181.399 455.636 Q178.343 451.03 178.343 442.303 Q178.343 433.553 181.399 428.97 Q184.477 424.363 190.288 424.363 Z\" fill=\"#000000\" fill-rule=\"evenodd\" fill-opacity=\"1\" /><path clip-path=\"url(#clip480)\" d=\"M 0 0 M131.885 149.078 L148.204 149.078 L148.204 153.014 L126.26 153.014 L126.26 149.078 Q128.922 146.324 133.505 141.694 Q138.112 137.041 139.292 135.699 Q141.538 133.176 142.417 131.44 Q143.32 129.68 143.32 127.991 Q143.32 125.236 141.376 123.5 Q139.455 121.764 136.353 121.764 Q134.154 121.764 131.7 122.528 Q129.269 123.291 126.492 124.842 L126.492 120.12 Q129.316 118.986 131.769 118.407 Q134.223 117.829 136.26 117.829 Q141.63 117.829 144.825 120.514 Q148.019 123.199 148.019 127.69 Q148.019 129.819 147.209 131.74 Q146.422 133.639 144.316 136.231 Q143.737 136.902 140.635 140.12 Q137.533 143.314 131.885 149.078 Z\" fill=\"#000000\" fill-rule=\"evenodd\" fill-opacity=\"1\" /><path clip-path=\"url(#clip480)\" d=\"M 0 0 M163.274 121.532 Q159.663 121.532 157.834 125.097 Q156.029 128.639 156.029 135.768 Q156.029 142.875 157.834 146.439 Q159.663 149.981 163.274 149.981 Q166.908 149.981 168.714 146.439 Q170.542 142.875 170.542 135.768 Q170.542 128.639 168.714 125.097 Q166.908 121.532 163.274 121.532 M163.274 117.829 Q169.084 117.829 172.14 122.435 Q175.218 127.018 175.218 135.768 Q175.218 144.495 172.14 149.102 Q169.084 153.685 163.274 153.685 Q157.464 153.685 154.385 149.102 Q151.329 144.495 151.329 135.768 Q151.329 127.018 154.385 122.435 Q157.464 117.829 163.274 117.829 Z\" fill=\"#000000\" fill-rule=\"evenodd\" fill-opacity=\"1\" /><path clip-path=\"url(#clip480)\" d=\"M 0 0 M190.288 121.532 Q186.677 121.532 184.848 125.097 Q183.042 128.639 183.042 135.768 Q183.042 142.875 184.848 146.439 Q186.677 149.981 190.288 149.981 Q193.922 149.981 195.727 146.439 Q197.556 142.875 197.556 135.768 Q197.556 128.639 195.727 125.097 Q193.922 121.532 190.288 121.532 M190.288 117.829 Q196.098 117.829 199.153 122.435 Q202.232 127.018 202.232 135.768 Q202.232 144.495 199.153 149.102 Q196.098 153.685 190.288 153.685 Q184.477 153.685 181.399 149.102 Q178.343 144.495 178.343 135.768 Q178.343 127.018 181.399 122.435 Q184.477 117.829 190.288 117.829 Z\" fill=\"#000000\" fill-rule=\"evenodd\" fill-opacity=\"1\" /><path clip-path=\"url(#clip480)\" d=\"M 0 0 M630.351 72.576 L607.261 12.096 L615.808 12.096 L634.969 63.0159 L654.17 12.096 L662.677 12.096 L639.628 72.576 L630.351 72.576 Z\" fill=\"#000000\" fill-rule=\"evenodd\" fill-opacity=\"1\" /><path clip-path=\"url(#clip480)\" d=\"M 0 0 M668.673 27.2059 L676.126 27.2059 L676.126 72.576 L668.673 72.576 L668.673 27.2059 M668.673 9.54393 L676.126 9.54393 L676.126 18.9825 L668.673 18.9825 L668.673 9.54393 Z\" fill=\"#000000\" fill-rule=\"evenodd\" fill-opacity=\"1\" /><path clip-path=\"url(#clip480)\" d=\"M 0 0 M712.868 28.5427 L712.868 35.5912 Q709.708 33.9709 706.306 33.1607 Q702.903 32.3505 699.257 32.3505 Q693.707 32.3505 690.912 34.0519 Q688.157 35.7533 688.157 39.156 Q688.157 41.7486 690.142 43.2475 Q692.127 44.7058 698.123 46.0426 L700.675 46.6097 Q708.615 48.3111 711.936 51.4303 Q715.299 54.509 715.299 60.0587 Q715.299 66.3781 710.275 70.0644 Q705.293 73.7508 696.543 73.7508 Q692.897 73.7508 688.927 73.0216 Q684.998 72.3329 680.623 70.9151 L680.623 63.2184 Q684.755 65.3654 688.765 66.4591 Q692.775 67.5124 696.705 67.5124 Q701.971 67.5124 704.807 65.73 Q707.642 63.9071 707.642 60.6258 Q707.642 57.5877 705.576 55.9673 Q703.551 54.3469 696.624 52.8481 L694.031 52.2405 Q687.104 50.7821 684.026 47.7845 Q680.947 44.7463 680.947 39.4801 Q680.947 33.0797 685.484 29.5959 Q690.021 26.1121 698.366 26.1121 Q702.498 26.1121 706.143 26.7198 Q709.789 27.3274 712.868 28.5427 Z\" fill=\"#000000\" fill-rule=\"evenodd\" fill-opacity=\"1\" /><path clip-path=\"url(#clip480)\" d=\"M 0 0 M722.347 54.671 L722.347 27.2059 L729.801 27.2059 L729.801 54.3874 Q729.801 60.8284 732.312 64.0691 Q734.824 67.2693 739.847 67.2693 Q745.883 67.2693 749.367 63.421 Q752.891 59.5726 752.891 52.9291 L752.891 27.2059 L760.345 27.2059 L760.345 72.576 L752.891 72.576 L752.891 65.6084 Q750.177 69.7404 746.572 71.7658 Q743.007 73.7508 738.267 73.7508 Q730.449 73.7508 726.398 68.8897 Q722.347 64.0286 722.347 54.671 M741.103 26.1121 L741.103 26.1121 Z\" fill=\"#000000\" fill-rule=\"evenodd\" fill-opacity=\"1\" /><path clip-path=\"url(#clip480)\" d=\"M 0 0 M788.782 49.7694 Q779.748 49.7694 776.265 51.8354 Q772.781 53.9013 772.781 58.8839 Q772.781 62.8538 775.373 65.2034 Q778.007 67.5124 782.503 67.5124 Q788.701 67.5124 792.428 63.1374 Q796.195 58.7219 796.195 51.4303 L796.195 49.7694 L788.782 49.7694 M803.649 46.6907 L803.649 72.576 L796.195 72.576 L796.195 65.6895 Q793.643 69.8214 789.835 71.8063 Q786.027 73.7508 780.518 73.7508 Q773.551 73.7508 769.419 69.8619 Q765.327 65.9325 765.327 59.3701 Q765.327 51.7138 770.431 47.825 Q775.576 43.9361 785.744 43.9361 L796.195 43.9361 L796.195 43.2069 Q796.195 38.0623 792.792 35.2672 Q789.43 32.4315 783.313 32.4315 Q779.424 32.4315 775.738 33.3632 Q772.052 34.295 768.649 36.1584 L768.649 29.2718 Q772.74 27.692 776.589 26.9223 Q780.437 26.1121 784.083 26.1121 Q793.927 26.1121 798.788 31.2163 Q803.649 36.3204 803.649 46.6907 Z\" fill=\"#000000\" fill-rule=\"evenodd\" fill-opacity=\"1\" /><path clip-path=\"url(#clip480)\" d=\"M 0 0 M811.467 9.54393 L818.921 9.54393 L818.921 72.576 L811.467 72.576 L811.467 9.54393 Z\" fill=\"#000000\" fill-rule=\"evenodd\" fill-opacity=\"1\" /><path clip-path=\"url(#clip480)\" d=\"M 0 0 M826.739 27.2059 L834.193 27.2059 L834.193 72.576 L826.739 72.576 L826.739 27.2059 M826.739 9.54393 L834.193 9.54393 L834.193 18.9825 L826.739 18.9825 L826.739 9.54393 Z\" fill=\"#000000\" fill-rule=\"evenodd\" fill-opacity=\"1\" /><path clip-path=\"url(#clip480)\" d=\"M 0 0 M838.77 27.2059 L874.175 27.2059 L874.175 34.0114 L846.143 66.6212 L874.175 66.6212 L874.175 72.576 L837.757 72.576 L837.757 65.7705 L865.79 33.1607 L838.77 33.1607 L838.77 27.2059 Z\" fill=\"#000000\" fill-rule=\"evenodd\" fill-opacity=\"1\" /><path clip-path=\"url(#clip480)\" d=\"M 0 0 M902.612 49.7694 Q893.579 49.7694 890.095 51.8354 Q886.611 53.9013 886.611 58.8839 Q886.611 62.8538 889.204 65.2034 Q891.837 67.5124 896.333 67.5124 Q902.531 67.5124 906.258 63.1374 Q910.025 58.7219 910.025 51.4303 L910.025 49.7694 L902.612 49.7694 M917.479 46.6907 L917.479 72.576 L910.025 72.576 L910.025 65.6895 Q907.473 69.8214 903.666 71.8063 Q899.858 73.7508 894.348 73.7508 Q887.381 73.7508 883.249 69.8619 Q879.158 65.9325 879.158 59.3701 Q879.158 51.7138 884.262 47.825 Q889.406 43.9361 899.574 43.9361 L910.025 43.9361 L910.025 43.2069 Q910.025 38.0623 906.623 35.2672 Q903.26 32.4315 897.144 32.4315 Q893.255 32.4315 889.568 33.3632 Q885.882 34.295 882.479 36.1584 L882.479 29.2718 Q886.571 27.692 890.419 26.9223 Q894.267 26.1121 897.913 26.1121 Q907.757 26.1121 912.618 31.2163 Q917.479 36.3204 917.479 46.6907 Z\" fill=\"#000000\" fill-rule=\"evenodd\" fill-opacity=\"1\" /><path clip-path=\"url(#clip480)\" d=\"M 0 0 M932.67 14.324 L932.67 27.2059 L948.023 27.2059 L948.023 32.9987 L932.67 32.9987 L932.67 57.6282 Q932.67 63.1779 934.169 64.7578 Q935.708 66.3376 940.367 66.3376 L948.023 66.3376 L948.023 72.576 L940.367 72.576 Q931.738 72.576 928.457 69.3758 Q925.176 66.1351 925.176 57.6282 L925.176 32.9987 L919.707 32.9987 L919.707 27.2059 L925.176 27.2059 L925.176 14.324 L932.67 14.324 Z\" fill=\"#000000\" fill-rule=\"evenodd\" fill-opacity=\"1\" /><path clip-path=\"url(#clip480)\" d=\"M 0 0 M955.841 27.2059 L963.295 27.2059 L963.295 72.576 L955.841 72.576 L955.841 27.2059 M955.841 9.54393 L963.295 9.54393 L963.295 18.9825 L955.841 18.9825 L955.841 9.54393 Z\" fill=\"#000000\" fill-rule=\"evenodd\" fill-opacity=\"1\" /><path clip-path=\"url(#clip480)\" d=\"M 0 0 M988.694 32.4315 Q982.699 32.4315 979.215 37.1306 Q975.731 41.7891 975.731 49.9314 Q975.731 58.0738 979.174 62.7728 Q982.658 67.4314 988.694 67.4314 Q994.649 67.4314 998.133 62.7323 Q1001.62 58.0333 1001.62 49.9314 Q1001.62 41.8701 998.133 37.1711 Q994.649 32.4315 988.694 32.4315 M988.694 26.1121 Q998.416 26.1121 1003.97 32.4315 Q1009.52 38.7509 1009.52 49.9314 Q1009.52 61.0714 1003.97 67.4314 Q998.416 73.7508 988.694 73.7508 Q978.931 73.7508 973.382 67.4314 Q967.872 61.0714 967.872 49.9314 Q967.872 38.7509 973.382 32.4315 Q978.931 26.1121 988.694 26.1121 Z\" fill=\"#000000\" fill-rule=\"evenodd\" fill-opacity=\"1\" /><path clip-path=\"url(#clip480)\" d=\"M 0 0 M1055.05 45.1919 L1055.05 72.576 L1047.59 72.576 L1047.59 45.4349 Q1047.59 38.994 1045.08 35.7938 Q1042.57 32.5936 1037.55 32.5936 Q1031.51 32.5936 1028.03 36.4419 Q1024.54 40.2903 1024.54 46.9338 L1024.54 72.576 L1017.05 72.576 L1017.05 27.2059 L1024.54 27.2059 L1024.54 34.2544 Q1027.22 30.163 1030.82 28.1376 Q1034.47 26.1121 1039.21 26.1121 Q1047.03 26.1121 1051.04 30.9732 Q1055.05 35.7938 1055.05 45.1919 Z\" fill=\"#000000\" fill-rule=\"evenodd\" fill-opacity=\"1\" /><path clip-path=\"url(#clip480)\" d=\"M 0 0 M1106.82 32.4315 Q1100.82 32.4315 1097.34 37.1306 Q1093.86 41.7891 1093.86 49.9314 Q1093.86 58.0738 1097.3 62.7728 Q1100.78 67.4314 1106.82 67.4314 Q1112.77 67.4314 1116.26 62.7323 Q1119.74 58.0333 1119.74 49.9314 Q1119.74 41.8701 1116.26 37.1711 Q1112.77 32.4315 1106.82 32.4315 M1106.82 26.1121 Q1116.54 26.1121 1122.09 32.4315 Q1127.64 38.7509 1127.64 49.9314 Q1127.64 61.0714 1122.09 67.4314 Q1116.54 73.7508 1106.82 73.7508 Q1097.06 73.7508 1091.51 67.4314 Q1086 61.0714 1086 49.9314 Q1086 38.7509 1091.51 32.4315 Q1097.06 26.1121 1106.82 26.1121 Z\" fill=\"#000000\" fill-rule=\"evenodd\" fill-opacity=\"1\" /><path clip-path=\"url(#clip480)\" d=\"M 0 0 M1158.43 9.54393 L1158.43 15.7418 L1151.3 15.7418 Q1147.29 15.7418 1145.71 17.3622 Q1144.17 18.9825 1144.17 23.1955 L1144.17 27.2059 L1156.44 27.2059 L1156.44 32.9987 L1144.17 32.9987 L1144.17 72.576 L1136.67 72.576 L1136.67 32.9987 L1129.54 32.9987 L1129.54 27.2059 L1136.67 27.2059 L1136.67 24.0462 Q1136.67 16.471 1140.2 13.0277 Q1143.72 9.54393 1151.38 9.54393 L1158.43 9.54393 Z\" fill=\"#000000\" fill-rule=\"evenodd\" fill-opacity=\"1\" /><path clip-path=\"url(#clip480)\" d=\"M 0 0 M1192.94 12.096 L1205.13 12.096 L1220.57 53.2532 L1236.08 12.096 L1248.28 12.096 L1248.28 72.576 L1240.3 72.576 L1240.3 19.4686 L1224.7 60.9499 L1216.48 60.9499 L1200.88 19.4686 L1200.88 72.576 L1192.94 72.576 L1192.94 12.096 Z\" fill=\"#000000\" fill-rule=\"evenodd\" fill-opacity=\"1\" /><path clip-path=\"url(#clip480)\" d=\"M 0 0 M1274.97 76.7889 Q1271.81 84.8907 1268.81 87.3618 Q1265.82 89.8329 1260.79 89.8329 L1254.84 89.8329 L1254.84 83.5945 L1259.21 83.5945 Q1262.29 83.5945 1263.99 82.1361 Q1265.69 80.6778 1267.76 75.2496 L1269.1 71.8468 L1250.75 27.2059 L1258.65 27.2059 L1272.82 62.6918 L1287 27.2059 L1294.9 27.2059 L1274.97 76.7889 Z\" fill=\"#000000\" fill-rule=\"evenodd\" fill-opacity=\"1\" /><path clip-path=\"url(#clip480)\" d=\"M 0 0 M1337.6 18.8205 L1337.6 41.5461 L1347.89 41.5461 Q1353.6 41.5461 1356.72 38.5889 Q1359.84 35.6318 1359.84 30.163 Q1359.84 24.7348 1356.72 21.7777 Q1353.6 18.8205 1347.89 18.8205 L1337.6 18.8205 M1329.42 12.096 L1347.89 12.096 Q1358.06 12.096 1363.24 16.714 Q1368.47 21.2916 1368.47 30.163 Q1368.47 39.1155 1363.24 43.6931 Q1358.06 48.2706 1347.89 48.2706 L1337.6 48.2706 L1337.6 72.576 L1329.42 72.576 L1329.42 12.096 Z\" fill=\"#000000\" fill-rule=\"evenodd\" fill-opacity=\"1\" /><path clip-path=\"url(#clip480)\" d=\"M 0 0 M1393.18 49.7694 Q1384.14 49.7694 1380.66 51.8354 Q1377.18 53.9013 1377.18 58.8839 Q1377.18 62.8538 1379.77 65.2034 Q1382.4 67.5124 1386.9 67.5124 Q1393.1 67.5124 1396.82 63.1374 Q1400.59 58.7219 1400.59 51.4303 L1400.59 49.7694 L1393.18 49.7694 M1408.04 46.6907 L1408.04 72.576 L1400.59 72.576 L1400.59 65.6895 Q1398.04 69.8214 1394.23 71.8063 Q1390.42 73.7508 1384.91 73.7508 Q1377.95 73.7508 1373.81 69.8619 Q1369.72 65.9325 1369.72 59.3701 Q1369.72 51.7138 1374.83 47.825 Q1379.97 43.9361 1390.14 43.9361 L1400.59 43.9361 L1400.59 43.2069 Q1400.59 38.0623 1397.19 35.2672 Q1393.82 32.4315 1387.71 32.4315 Q1383.82 32.4315 1380.13 33.3632 Q1376.45 34.295 1373.04 36.1584 L1373.04 29.2718 Q1377.14 27.692 1380.98 26.9223 Q1384.83 26.1121 1388.48 26.1121 Q1398.32 26.1121 1403.18 31.2163 Q1408.04 36.3204 1408.04 46.6907 Z\" fill=\"#000000\" fill-rule=\"evenodd\" fill-opacity=\"1\" /><path clip-path=\"url(#clip480)\" d=\"M 0 0 M1442.15 34.1734 Q1440.9 33.4443 1439.4 33.1202 Q1437.94 32.7556 1436.16 32.7556 Q1429.84 32.7556 1426.43 36.8875 Q1423.07 40.9789 1423.07 48.6757 L1423.07 72.576 L1415.58 72.576 L1415.58 27.2059 L1423.07 27.2059 L1423.07 34.2544 Q1425.42 30.1225 1429.19 28.1376 Q1432.96 26.1121 1438.34 26.1121 Q1439.11 26.1121 1440.05 26.2337 Q1440.98 26.3147 1442.11 26.5172 L1442.15 34.1734 Z\" fill=\"#000000\" fill-rule=\"evenodd\" fill-opacity=\"1\" /><path clip-path=\"url(#clip480)\" d=\"M 0 0 M1470.59 49.7694 Q1461.56 49.7694 1458.07 51.8354 Q1454.59 53.9013 1454.59 58.8839 Q1454.59 62.8538 1457.18 65.2034 Q1459.81 67.5124 1464.31 67.5124 Q1470.51 67.5124 1474.24 63.1374 Q1478 58.7219 1478 51.4303 L1478 49.7694 L1470.59 49.7694 M1485.46 46.6907 L1485.46 72.576 L1478 72.576 L1478 65.6895 Q1475.45 69.8214 1471.64 71.8063 Q1467.83 73.7508 1462.33 73.7508 Q1455.36 73.7508 1451.23 69.8619 Q1447.13 65.9325 1447.13 59.3701 Q1447.13 51.7138 1452.24 47.825 Q1457.38 43.9361 1467.55 43.9361 L1478 43.9361 L1478 43.2069 Q1478 38.0623 1474.6 35.2672 Q1471.24 32.4315 1465.12 32.4315 Q1461.23 32.4315 1457.55 33.3632 Q1453.86 34.295 1450.46 36.1584 L1450.46 29.2718 Q1454.55 27.692 1458.4 26.9223 Q1462.24 26.1121 1465.89 26.1121 Q1475.73 26.1121 1480.6 31.2163 Q1485.46 36.3204 1485.46 46.6907 Z\" fill=\"#000000\" fill-rule=\"evenodd\" fill-opacity=\"1\" /><path clip-path=\"url(#clip480)\" d=\"M 0 0 M1525.84 49.9314 Q1525.84 41.7081 1522.44 37.0496 Q1519.08 32.3505 1513.16 32.3505 Q1507.25 32.3505 1503.85 37.0496 Q1500.49 41.7081 1500.49 49.9314 Q1500.49 58.1548 1503.85 62.8538 Q1507.25 67.5124 1513.16 67.5124 Q1519.08 67.5124 1522.44 62.8538 Q1525.84 58.1548 1525.84 49.9314 M1500.49 34.0924 Q1502.83 30.0415 1506.4 28.0971 Q1510 26.1121 1514.99 26.1121 Q1523.25 26.1121 1528.4 32.6746 Q1533.58 39.2371 1533.58 49.9314 Q1533.58 60.6258 1528.4 67.1883 Q1523.25 73.7508 1514.99 73.7508 Q1510 73.7508 1506.4 71.8063 Q1502.83 69.8214 1500.49 65.7705 L1500.49 72.576 L1492.99 72.576 L1492.99 9.54393 L1500.49 9.54393 L1500.49 34.0924 Z\" fill=\"#000000\" fill-rule=\"evenodd\" fill-opacity=\"1\" /><path clip-path=\"url(#clip480)\" d=\"M 0 0 M1558.98 32.4315 Q1552.99 32.4315 1549.5 37.1306 Q1546.02 41.7891 1546.02 49.9314 Q1546.02 58.0738 1549.46 62.7728 Q1552.94 67.4314 1558.98 67.4314 Q1564.94 67.4314 1568.42 62.7323 Q1571.9 58.0333 1571.9 49.9314 Q1571.9 41.8701 1568.42 37.1711 Q1564.94 32.4315 1558.98 32.4315 M1558.98 26.1121 Q1568.7 26.1121 1574.25 32.4315 Q1579.8 38.7509 1579.8 49.9314 Q1579.8 61.0714 1574.25 67.4314 Q1568.7 73.7508 1558.98 73.7508 Q1549.22 73.7508 1543.67 67.4314 Q1538.16 61.0714 1538.16 49.9314 Q1538.16 38.7509 1543.67 32.4315 Q1549.22 26.1121 1558.98 26.1121 Z\" fill=\"#000000\" fill-rule=\"evenodd\" fill-opacity=\"1\" /><path clip-path=\"url(#clip480)\" d=\"M 0 0 M1587.62 9.54393 L1595.07 9.54393 L1595.07 72.576 L1587.62 72.576 L1587.62 9.54393 Z\" fill=\"#000000\" fill-rule=\"evenodd\" fill-opacity=\"1\" /><path clip-path=\"url(#clip480)\" d=\"M 0 0 M1623.51 49.7694 Q1614.48 49.7694 1610.99 51.8354 Q1607.51 53.9013 1607.51 58.8839 Q1607.51 62.8538 1610.1 65.2034 Q1612.74 67.5124 1617.23 67.5124 Q1623.43 67.5124 1627.16 63.1374 Q1630.92 58.7219 1630.92 51.4303 L1630.92 49.7694 L1623.51 49.7694 M1638.38 46.6907 L1638.38 72.576 L1630.92 72.576 L1630.92 65.6895 Q1628.37 69.8214 1624.56 71.8063 Q1620.76 73.7508 1615.25 73.7508 Q1608.28 73.7508 1604.15 69.8619 Q1600.06 65.9325 1600.06 59.3701 Q1600.06 51.7138 1605.16 47.825 Q1610.31 43.9361 1620.47 43.9361 L1630.92 43.9361 L1630.92 43.2069 Q1630.92 38.0623 1627.52 35.2672 Q1624.16 32.4315 1618.04 32.4315 Q1614.15 32.4315 1610.47 33.3632 Q1606.78 34.295 1603.38 36.1584 L1603.38 29.2718 Q1607.47 27.692 1611.32 26.9223 Q1615.17 26.1121 1618.81 26.1121 Q1628.66 26.1121 1633.52 31.2163 Q1638.38 36.3204 1638.38 46.6907 Z\" fill=\"#000000\" fill-rule=\"evenodd\" fill-opacity=\"1\" /><path clip-path=\"url(#clip480)\" d=\"M 0 0 M1672.89 12.096 L1707.65 12.096 L1707.65 18.9825 L1681.07 18.9825 L1681.07 36.8065 L1705.06 36.8065 L1705.06 43.6931 L1681.07 43.6931 L1681.07 72.576 L1672.89 72.576 L1672.89 12.096 Z\" fill=\"#000000\" fill-rule=\"evenodd\" fill-opacity=\"1\" /><path clip-path=\"url(#clip480)\" d=\"M 0 0 M1710.16 54.671 L1710.16 27.2059 L1717.61 27.2059 L1717.61 54.3874 Q1717.61 60.8284 1720.13 64.0691 Q1722.64 67.2693 1727.66 67.2693 Q1733.7 67.2693 1737.18 63.421 Q1740.7 59.5726 1740.7 52.9291 L1740.7 27.2059 L1748.16 27.2059 L1748.16 72.576 L1740.7 72.576 L1740.7 65.6084 Q1737.99 69.7404 1734.38 71.7658 Q1730.82 73.7508 1726.08 73.7508 Q1718.26 73.7508 1714.21 68.8897 Q1710.16 64.0286 1710.16 54.671 M1728.92 26.1121 L1728.92 26.1121 Z\" fill=\"#000000\" fill-rule=\"evenodd\" fill-opacity=\"1\" /><path clip-path=\"url(#clip480)\" d=\"M 0 0 M1793.69 45.1919 L1793.69 72.576 L1786.24 72.576 L1786.24 45.4349 Q1786.24 38.994 1783.72 35.7938 Q1781.21 32.5936 1776.19 32.5936 Q1770.15 32.5936 1766.67 36.4419 Q1763.19 40.2903 1763.19 46.9338 L1763.19 72.576 L1755.69 72.576 L1755.69 27.2059 L1763.19 27.2059 L1763.19 34.2544 Q1765.86 30.163 1769.47 28.1376 Q1773.11 26.1121 1777.85 26.1121 Q1785.67 26.1121 1789.68 30.9732 Q1793.69 35.7938 1793.69 45.1919 Z\" fill=\"#000000\" fill-rule=\"evenodd\" fill-opacity=\"1\" /><path clip-path=\"url(#clip480)\" d=\"M 0 0 M1834.16 28.9478 L1834.16 35.9153 Q1831 34.1734 1827.8 33.3227 Q1824.64 32.4315 1821.4 32.4315 Q1814.15 32.4315 1810.14 37.0496 Q1806.13 41.6271 1806.13 49.9314 Q1806.13 58.2358 1810.14 62.8538 Q1814.15 67.4314 1821.4 67.4314 Q1824.64 67.4314 1827.8 66.5807 Q1831 65.6895 1834.16 63.9476 L1834.16 70.8341 Q1831.04 72.2924 1827.68 73.0216 Q1824.36 73.7508 1820.59 73.7508 Q1810.34 73.7508 1804.3 67.3098 Q1798.27 60.8689 1798.27 49.9314 Q1798.27 38.832 1804.34 32.472 Q1810.46 26.1121 1821.07 26.1121 Q1824.52 26.1121 1827.8 26.8413 Q1831.08 27.5299 1834.16 28.9478 Z\" fill=\"#000000\" fill-rule=\"evenodd\" fill-opacity=\"1\" /><path clip-path=\"url(#clip480)\" d=\"M 0 0 M1849.35 14.324 L1849.35 27.2059 L1864.7 27.2059 L1864.7 32.9987 L1849.35 32.9987 L1849.35 57.6282 Q1849.35 63.1779 1850.85 64.7578 Q1852.39 66.3376 1857.05 66.3376 L1864.7 66.3376 L1864.7 72.576 L1857.05 72.576 Q1848.42 72.576 1845.14 69.3758 Q1841.85 66.1351 1841.85 57.6282 L1841.85 32.9987 L1836.39 32.9987 L1836.39 27.2059 L1841.85 27.2059 L1841.85 14.324 L1849.35 14.324 Z\" fill=\"#000000\" fill-rule=\"evenodd\" fill-opacity=\"1\" /><path clip-path=\"url(#clip480)\" d=\"M 0 0 M1872.52 27.2059 L1879.97 27.2059 L1879.97 72.576 L1872.52 72.576 L1872.52 27.2059 M1872.52 9.54393 L1879.97 9.54393 L1879.97 18.9825 L1872.52 18.9825 L1872.52 9.54393 Z\" fill=\"#000000\" fill-rule=\"evenodd\" fill-opacity=\"1\" /><path clip-path=\"url(#clip480)\" d=\"M 0 0 M1905.37 32.4315 Q1899.38 32.4315 1895.89 37.1306 Q1892.41 41.7891 1892.41 49.9314 Q1892.41 58.0738 1895.85 62.7728 Q1899.34 67.4314 1905.37 67.4314 Q1911.33 67.4314 1914.81 62.7323 Q1918.3 58.0333 1918.3 49.9314 Q1918.3 41.8701 1914.81 37.1711 Q1911.33 32.4315 1905.37 32.4315 M1905.37 26.1121 Q1915.1 26.1121 1920.65 32.4315 Q1926.19 38.7509 1926.19 49.9314 Q1926.19 61.0714 1920.65 67.4314 Q1915.1 73.7508 1905.37 73.7508 Q1895.61 73.7508 1890.06 67.4314 Q1884.55 61.0714 1884.55 49.9314 Q1884.55 38.7509 1890.06 32.4315 Q1895.61 26.1121 1905.37 26.1121 Z\" fill=\"#000000\" fill-rule=\"evenodd\" fill-opacity=\"1\" /><path clip-path=\"url(#clip480)\" d=\"M 0 0 M1971.73 45.1919 L1971.73 72.576 L1964.27 72.576 L1964.27 45.4349 Q1964.27 38.994 1961.76 35.7938 Q1959.25 32.5936 1954.23 32.5936 Q1948.19 32.5936 1944.71 36.4419 Q1941.22 40.2903 1941.22 46.9338 L1941.22 72.576 L1933.73 72.576 L1933.73 27.2059 L1941.22 27.2059 L1941.22 34.2544 Q1943.9 30.163 1947.5 28.1376 Q1951.15 26.1121 1955.89 26.1121 Q1963.71 26.1121 1967.72 30.9732 Q1971.73 35.7938 1971.73 45.1919 Z\" fill=\"#000000\" fill-rule=\"evenodd\" fill-opacity=\"1\" /><path clip-path=\"url(#clip480)\" d=\"M 0 0 M1306.11 1520.4 L1293.22 1537.74 L1306.78 1556.04 L1299.87 1556.04 L1289.49 1542.04 L1279.12 1556.04 L1272.21 1556.04 L1286.06 1537.39 L1273.39 1520.4 L1280.3 1520.4 L1289.75 1533.1 L1299.2 1520.4 L1306.11 1520.4 Z\" fill=\"#000000\" fill-rule=\"evenodd\" fill-opacity=\"1\" /><path clip-path=\"url(#clip480)\" d=\"M 0 0 M38.479 800.221 L43.3487 800.221 L43.3487 805.823 Q43.3487 808.974 44.6219 810.215 Q45.895 811.425 49.2052 811.425 L52.3562 811.425 L52.3562 801.781 L56.9077 801.781 L56.9077 811.425 L88.0042 811.425 L88.0042 817.313 L56.9077 817.313 L56.9077 822.915 L52.3562 822.915 L52.3562 817.313 L49.8736 817.313 Q43.9216 817.313 41.2162 814.544 Q38.479 811.775 38.479 805.759 L38.479 800.221 Z\" fill=\"#000000\" fill-rule=\"evenodd\" fill-opacity=\"1\" /><path clip-path=\"url(#clip480)\" d=\"M 0 0 M38.5426 780.01 Q45.8632 784.275 53.0246 786.344 Q60.186 788.413 67.5384 788.413 Q74.8908 788.413 82.1159 786.344 Q89.3091 784.243 96.5979 780.01 L96.5979 785.103 Q89.1182 789.877 81.8931 792.264 Q74.668 794.619 67.5384 794.619 Q60.4406 794.619 53.2474 792.264 Q46.0542 789.909 38.5426 785.103 L38.5426 780.01 Z\" fill=\"#000000\" fill-rule=\"evenodd\" fill-opacity=\"1\" /><path clip-path=\"url(#clip480)\" d=\"M 0 0 M52.3562 744.235 L69.7028 757.125 L88.0042 743.566 L88.0042 750.473 L73.9996 760.849 L88.0042 771.225 L88.0042 778.132 L69.3526 764.287 L52.3562 776.954 L52.3562 770.048 L65.0558 760.595 L52.3562 751.141 L52.3562 744.235 Z\" fill=\"#000000\" fill-rule=\"evenodd\" fill-opacity=\"1\" /><path clip-path=\"url(#clip480)\" d=\"M 0 0 M38.5426 738.346 L38.5426 733.254 Q46.0542 728.48 53.2474 726.124 Q60.4406 723.737 67.5384 723.737 Q74.668 723.737 81.8931 726.124 Q89.1182 728.48 96.5979 733.254 L96.5979 738.346 Q89.3091 734.113 82.1159 732.044 Q74.8908 729.944 67.5384 729.944 Q60.186 729.944 53.0246 732.044 Q45.8632 734.113 38.5426 738.346 Z\" fill=\"#000000\" fill-rule=\"evenodd\" fill-opacity=\"1\" /><polyline clip-path=\"url(#clip482)\" style=\"stroke:#009af9; stroke-width:4; stroke-opacity:1; fill:none\" points=\"\n",
       "  286.417,160.256 386.724,393.223 487.032,601.666 587.34,785.587 687.648,944.985 787.955,1079.86 888.263,1190.21 988.571,1276.04 1088.88,1337.35 1189.19,1374.13 \n",
       "  1289.49,1386.4 1389.8,1374.13 1490.11,1337.35 1590.42,1276.04 1690.72,1190.21 1791.03,1079.86 1891.34,944.985 1991.65,785.587 2091.96,601.666 2192.26,393.223 \n",
       "  2292.57,160.256 \n",
       "  \"/>\n",
       "<polyline clip-path=\"url(#clip482)\" style=\"stroke:#e26f46; stroke-width:4; stroke-opacity:1; fill:none\" points=\"\n",
       "  286.417,1361.87 386.724,1361.87 487.032,1361.87 587.34,1361.87 687.648,1361.87 787.955,1361.87 888.263,1361.87 988.571,1361.87 1088.88,1361.87 1189.19,1361.87 \n",
       "  1289.49,1361.87 1389.8,1361.87 1490.11,1361.87 1590.42,1361.87 1690.72,1361.87 1791.03,1361.87 1891.34,1361.87 1991.65,1361.87 2091.96,1361.87 2192.26,1361.87 \n",
       "  2292.57,1361.87 \n",
       "  \"/>\n",
       "<polyline clip-path=\"url(#clip482)\" style=\"stroke:#3da44d; stroke-width:4; stroke-opacity:1; fill:none\" points=\"\n",
       "  286.417,1361.87 386.724,1361.87 487.032,1361.87 587.34,1361.87 687.648,1361.87 787.955,1361.87 888.263,1361.87 988.571,1361.87 1088.88,1361.87 1189.19,1361.87 \n",
       "  1289.49,1361.87 1389.8,1361.87 1490.11,1361.87 1590.42,1361.87 1690.72,1361.87 1791.03,1361.87 1891.34,1361.87 1991.65,1361.87 2091.96,1361.87 2192.26,1361.87 \n",
       "  2292.57,1361.87 \n",
       "  \"/>\n",
       "<polyline clip-path=\"url(#clip482)\" style=\"stroke:#c271d2; stroke-width:4; stroke-opacity:1; fill:none\" points=\"\n",
       "  286.417,1361.87 386.724,1361.87 487.032,1361.87 587.34,1361.87 687.648,1361.87 787.955,1361.87 888.263,1361.87 988.571,1361.87 1088.88,1361.87 1189.19,1361.87 \n",
       "  1289.49,1361.87 1389.8,1361.87 1490.11,1361.87 1590.42,1361.87 1690.72,1361.87 1791.03,1361.87 1891.34,1361.87 1991.65,1361.87 2091.96,1361.87 2192.26,1361.87 \n",
       "  2292.57,1361.87 \n",
       "  \"/>\n",
       "<polyline clip-path=\"url(#clip482)\" style=\"stroke:#ac8d18; stroke-width:4; stroke-opacity:1; fill:none\" points=\"\n",
       "  286.417,1361.87 386.724,1361.87 487.032,1361.87 587.34,1361.87 687.648,1361.87 787.955,1361.87 888.263,1361.87 988.571,1361.87 1088.88,1361.87 1189.19,1361.87 \n",
       "  1289.49,1361.87 1389.8,1361.87 1490.11,1361.87 1590.42,1361.87 1690.72,1361.87 1791.03,1361.87 1891.34,1361.87 1991.65,1361.87 2091.96,1361.87 2192.26,1361.87 \n",
       "  2292.57,1361.87 \n",
       "  \"/>\n",
       "<polyline clip-path=\"url(#clip482)\" style=\"stroke:#00a9ad; stroke-width:4; stroke-opacity:1; fill:none\" points=\"\n",
       "  286.417,1361.87 386.724,1361.87 487.032,1361.87 587.34,1361.87 687.648,1361.87 787.955,1361.87 888.263,1361.87 988.571,1361.87 1088.88,1361.87 1189.19,1361.87 \n",
       "  1289.49,1361.87 1389.8,1361.87 1490.11,1361.87 1590.42,1361.87 1690.72,1361.87 1791.03,1361.87 1891.34,1361.87 1991.65,1361.87 2091.96,1361.87 2192.26,1361.87 \n",
       "  2292.57,1361.87 \n",
       "  \"/>\n",
       "<polyline clip-path=\"url(#clip482)\" style=\"stroke:#ed5d92; stroke-width:4; stroke-opacity:1; fill:none\" points=\"\n",
       "  286.417,1361.87 386.724,1361.87 487.032,1361.87 587.34,1361.87 687.648,1361.87 787.955,1361.87 888.263,1361.87 988.571,1361.87 1088.88,1361.87 1189.19,1361.87 \n",
       "  1289.49,1361.87 1389.8,1361.87 1490.11,1361.87 1590.42,1361.87 1690.72,1361.87 1791.03,1361.87 1891.34,1361.87 1991.65,1361.87 2091.96,1361.87 2192.26,1361.87 \n",
       "  2292.57,1361.87 \n",
       "  \"/>\n",
       "<polyline clip-path=\"url(#clip482)\" style=\"stroke:#c68125; stroke-width:4; stroke-opacity:1; fill:none\" points=\"\n",
       "  286.417,1361.87 386.724,1361.87 487.032,1361.87 587.34,1361.87 687.648,1361.87 787.955,1361.87 888.263,1361.87 988.571,1361.87 1088.88,1361.87 1189.19,1361.87 \n",
       "  1289.49,1361.87 1389.8,1361.87 1490.11,1361.87 1590.42,1361.87 1690.72,1361.87 1791.03,1361.87 1891.34,1361.87 1991.65,1361.87 2091.96,1361.87 2192.26,1361.87 \n",
       "  2292.57,1361.87 \n",
       "  \"/>\n",
       "</svg>\n"
      ]
     },
     "execution_count": 162,
     "metadata": {},
     "output_type": "execute_result"
    }
   ],
   "source": [
    "visualmyparabola(-10,10)"
   ]
  },
  {
   "cell_type": "code",
   "execution_count": null,
   "metadata": {},
   "outputs": [],
   "source": []
  },
  {
   "cell_type": "code",
   "execution_count": null,
   "metadata": {},
   "outputs": [],
   "source": []
  },
  {
   "cell_type": "code",
   "execution_count": null,
   "metadata": {},
   "outputs": [],
   "source": []
  },
  {
   "cell_type": "code",
   "execution_count": null,
   "metadata": {},
   "outputs": [],
   "source": []
  }
 ],
 "metadata": {
  "kernelspec": {
   "display_name": "Julia 1.4.2",
   "language": "julia",
   "name": "julia-1.4"
  },
  "language_info": {
   "file_extension": ".jl",
   "mimetype": "application/julia",
   "name": "julia",
   "version": "1.4.2"
  }
 },
 "nbformat": 4,
 "nbformat_minor": 4
}
